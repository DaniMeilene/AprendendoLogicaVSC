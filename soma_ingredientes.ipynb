{
  "nbformat": 4,
  "nbformat_minor": 0,
  "metadata": {
    "colab": {
      "provenance": [],
      "authorship_tag": "ABX9TyOPzVyFIMk7a007z48ixru+",
      "include_colab_link": true
    },
    "kernelspec": {
      "name": "python3",
      "display_name": "Python 3"
    },
    "language_info": {
      "name": "python"
    }
  },
  "cells": [
    {
      "cell_type": "markdown",
      "metadata": {
        "id": "view-in-github",
        "colab_type": "text"
      },
      "source": [
        "<a href=\"https://colab.research.google.com/github/DaniMeilene/AprendendoLogicaVSC/blob/main/soma_ingredientes.ipynb\" target=\"_parent\"><img src=\"https://colab.research.google.com/assets/colab-badge.svg\" alt=\"Open In Colab\"/></a>"
      ]
    },
    {
      "cell_type": "markdown",
      "source": [],
      "metadata": {
        "id": "WYOMFoCBK8BD"
      }
    },
    {
      "cell_type": "code",
      "source": [
        "print (\"Olá, mundo\")"
      ],
      "metadata": {
        "colab": {
          "base_uri": "https://localhost:8080/"
        },
        "id": "pQIYHBfFLBFm",
        "outputId": "207aad9e-db13-4be9-eee9-28224febd125"
      },
      "execution_count": 12,
      "outputs": [
        {
          "output_type": "stream",
          "name": "stdout",
          "text": [
            "Olá, mundo\n"
          ]
        }
      ]
    },
    {
      "cell_type": "code",
      "source": [
        "#importação\n",
        "import sys"
      ],
      "metadata": {
        "id": "4W8EJe7QPIyZ"
      },
      "execution_count": 13,
      "outputs": []
    },
    {
      "cell_type": "code",
      "source": [
        "preco_cenoura = 4.5\n",
        "preco_oleo = 12\n",
        "preco_fermento = 15\n",
        "preco_leite = 5\n",
        "preco_acucar = 6\n",
        "preco_ovos = 12\n"
      ],
      "metadata": {
        "id": "ExDYfbuTPP8H"
      },
      "execution_count": 14,
      "outputs": []
    },
    {
      "cell_type": "code",
      "source": [
        "def soma_ingredientes(tem_cenoura, tem_acucar, tem_ovos, tem_oleo, tem_fermento, tem_leite):\n",
        "    total_compra = 0\n",
        "    if tem_cenoura:\n",
        "        total_compra = total_compra + preco_cenoura\n",
        "    if tem_acucar:\n",
        "        total_compra = total_compra + preco_acucar\n",
        "    if tem_ovos:\n",
        "        total_compra = total_compra + preco_ovos\n",
        "    if tem_oleo:\n",
        "        total_compra = total_compra + preco_oleo\n",
        "    if tem_fermento:\n",
        "        total_compra = total_compra + preco_fermento\n",
        "    if tem_leite:\n",
        "        total_compra = total_compra + preco_leite\n",
        "    return total_compra\n"
      ],
      "metadata": {
        "id": "ArEeLpN7bI95"
      },
      "execution_count": 15,
      "outputs": []
    },
    {
      "cell_type": "code",
      "source": [
        "\n",
        "terminal_tem_cenoura = True\n",
        "terminal_tem_acucar = True\n",
        "terminal_tem_ovos = True\n",
        "terminal_tem_oleo = True\n",
        "terminal_tem_fermento = True\n",
        "terminal_tem_leite = True\n",
        "\n",
        "total= soma_ingredientes(terminal_tem_cenoura, terminal_tem_acucar, terminal_tem_ovos, terminal_tem_oleo, terminal_tem_fermento, terminal_tem_leite)\n",
        "\n",
        "print(\"Total dos ingredientes: \", total)\n"
      ],
      "metadata": {
        "colab": {
          "base_uri": "https://localhost:8080/"
        },
        "id": "HaxGFXRvblfi",
        "outputId": "34b024d0-db4c-4d8c-f282-0a54e3154082"
      },
      "execution_count": 16,
      "outputs": [
        {
          "output_type": "stream",
          "name": "stdout",
          "text": [
            "Total dos ingredientes:  54.5\n"
          ]
        }
      ]
    },
    {
      "cell_type": "code",
      "source": [
        "preco_cenoura = 8"
      ],
      "metadata": {
        "id": "iix2d3eThoY-"
      },
      "execution_count": 17,
      "outputs": []
    }
  ]
}